{
 "cells": [
  {
   "cell_type": "code",
   "execution_count": 1,
   "metadata": {},
   "outputs": [],
   "source": [
    "import pandas as pd\n",
    "import numpy as np\n",
    "from Models import HospitalModel\n",
    "from sklearn.model_selection import train_test_split\n",
    "from sklearn.preprocessing import StandardScaler\n",
    "from sklearn.linear_model import LinearRegression, Lasso, Ridge, ElasticNet\n",
    "from sklearn.svm import SVR\n",
    "from sklearn.neighbors import KNeighborsRegressor\n",
    "from sklearn.tree import DecisionTreeRegressor\n",
    "from sklearn.ensemble import RandomForestRegressor\n",
    "from xgboost import XGBRegressor\n",
    "from tqdm import tqdm\n",
    "import seaborn as sns\n",
    "import matplotlib.pyplot as plt"
   ]
  },
  {
   "cell_type": "code",
   "execution_count": 2,
   "metadata": {},
   "outputs": [
    {
     "name": "stdout",
     "output_type": "stream",
     "text": [
      "17347 data points\n"
     ]
    },
    {
     "data": {
      "text/html": [
       "<div>\n",
       "<style scoped>\n",
       "    .dataframe tbody tr th:only-of-type {\n",
       "        vertical-align: middle;\n",
       "    }\n",
       "\n",
       "    .dataframe tbody tr th {\n",
       "        vertical-align: top;\n",
       "    }\n",
       "\n",
       "    .dataframe thead th {\n",
       "        text-align: right;\n",
       "    }\n",
       "</style>\n",
       "<table border=\"1\" class=\"dataframe\">\n",
       "  <thead>\n",
       "    <tr style=\"text-align: right;\">\n",
       "      <th></th>\n",
       "      <th>Date</th>\n",
       "      <th>City</th>\n",
       "      <th>Patients</th>\n",
       "      <th>Max</th>\n",
       "      <th>Min</th>\n",
       "      <th>Prec</th>\n",
       "      <th>Press</th>\n",
       "      <th>Wind</th>\n",
       "      <th>Insolat</th>\n",
       "    </tr>\n",
       "  </thead>\n",
       "  <tbody>\n",
       "    <tr>\n",
       "      <th>0</th>\n",
       "      <td>2007-01-29</td>\n",
       "      <td>Bucuresti</td>\n",
       "      <td>472</td>\n",
       "      <td>10.6</td>\n",
       "      <td>-1.0</td>\n",
       "      <td>0.2</td>\n",
       "      <td>1003.8</td>\n",
       "      <td>22</td>\n",
       "      <td>7.9</td>\n",
       "    </tr>\n",
       "    <tr>\n",
       "      <th>1</th>\n",
       "      <td>2007-10-22</td>\n",
       "      <td>Bucuresti</td>\n",
       "      <td>503</td>\n",
       "      <td>12.2</td>\n",
       "      <td>4.6</td>\n",
       "      <td>9.7</td>\n",
       "      <td>1012.5</td>\n",
       "      <td>22</td>\n",
       "      <td>0.3</td>\n",
       "    </tr>\n",
       "    <tr>\n",
       "      <th>2</th>\n",
       "      <td>2007-01-03</td>\n",
       "      <td>Constanta</td>\n",
       "      <td>76</td>\n",
       "      <td>9.8</td>\n",
       "      <td>1.7</td>\n",
       "      <td>4.3</td>\n",
       "      <td>1006.3</td>\n",
       "      <td>24</td>\n",
       "      <td>0.9</td>\n",
       "    </tr>\n",
       "    <tr>\n",
       "      <th>3</th>\n",
       "      <td>2007-01-29</td>\n",
       "      <td>Constanta</td>\n",
       "      <td>71</td>\n",
       "      <td>9.8</td>\n",
       "      <td>-0.5</td>\n",
       "      <td>0.6</td>\n",
       "      <td>1003.8</td>\n",
       "      <td>23</td>\n",
       "      <td>5.2</td>\n",
       "    </tr>\n",
       "    <tr>\n",
       "      <th>4</th>\n",
       "      <td>2007-02-23</td>\n",
       "      <td>Constanta</td>\n",
       "      <td>94</td>\n",
       "      <td>1.9</td>\n",
       "      <td>-3.9</td>\n",
       "      <td>1.0</td>\n",
       "      <td>1016.7</td>\n",
       "      <td>20</td>\n",
       "      <td>0.4</td>\n",
       "    </tr>\n",
       "  </tbody>\n",
       "</table>\n",
       "</div>"
      ],
      "text/plain": [
       "         Date       City  Patients   Max  Min  Prec   Press  Wind  Insolat\n",
       "0  2007-01-29  Bucuresti       472  10.6 -1.0   0.2  1003.8    22      7.9\n",
       "1  2007-10-22  Bucuresti       503  12.2  4.6   9.7  1012.5    22      0.3\n",
       "2  2007-01-03  Constanta        76   9.8  1.7   4.3  1006.3    24      0.9\n",
       "3  2007-01-29  Constanta        71   9.8 -0.5   0.6  1003.8    23      5.2\n",
       "4  2007-02-23  Constanta        94   1.9 -3.9   1.0  1016.7    20      0.4"
      ]
     },
     "execution_count": 2,
     "metadata": {},
     "output_type": "execute_result"
    }
   ],
   "source": [
    "dataset = pd.read_csv('../../../Data/Hospital/Hospital.csv')\n",
    "print(f\"{len(dataset)} data points\")\n",
    "\n",
    "dataset.head()"
   ]
  },
  {
   "cell_type": "code",
   "execution_count": 3,
   "metadata": {},
   "outputs": [],
   "source": [
    "X = dataset.drop(columns=['Patients'])\n",
    "y = dataset['Patients']\n",
    "\n",
    "X_train, X_test, y_train, y_test = train_test_split(X, y, test_size=0.3, random_state=42, stratify=dataset['City'], shuffle=True)\n",
    "\n",
    "# scale the columns: \n",
    "scaled_features = [\"Max\", \"Min\", \"Prec\", \"Press\", \"Wind\", \"Insolat\"]\n",
    "scaler = StandardScaler()\n",
    "X_train_scaled = X_train.copy()\n",
    "X_test_scaled = X_test.copy()\n",
    "X_train_scaled[scaled_features] = scaler.fit_transform(X_train[scaled_features])\n",
    "X_test_scaled[scaled_features] = scaler.transform(X_test[scaled_features])"
   ]
  },
  {
   "cell_type": "markdown",
   "metadata": {},
   "source": [
    "## Experiments"
   ]
  },
  {
   "cell_type": "markdown",
   "metadata": {},
   "source": [
    "**Experiment 1 - Importance of Algorithm**:\n",
    "- Linear Regression\n",
    "- Support Vector Regression\n",
    "- KNN\n",
    "- Decision Tree\n",
    "- Random Forest\n",
    "- XGBoost\n",
    "\n",
    "**Experiment 2 - Importance Weather Data**:\n",
    "- All features\n",
    "- No weather features"
   ]
  },
  {
   "cell_type": "code",
   "execution_count": 4,
   "metadata": {},
   "outputs": [],
   "source": [
    "search_space = {\n",
    "    \"algorithm\": [LinearRegression, KNeighborsRegressor, DecisionTreeRegressor, RandomForestRegressor, XGBRegressor],\n",
    "    \"data\": [\"all\", \"no-weather\"],\n",
    "}\n",
    "\n",
    "drop_columns = {\n",
    "    \"all\": [],\n",
    "    \"no-weather\": [\"Max\", \"Min\", \"Prec\", \"Press\", \"Wind\", \"Insolat\"],\n",
    "}\n",
    "\n",
    "def run_experiments(search_space, drop_columns):\n",
    "    results = {}\n",
    "    for algorithm in tqdm(search_space[\"algorithm\"], desc=\"Algorithm\"):\n",
    "        for data in search_space[\"data\"]:\n",
    "\n",
    "            model = HospitalModel(regressor=algorithm)\n",
    "\n",
    "            _drop_columns = drop_columns[data]\n",
    "\n",
    "            if data == \"all\":\n",
    "                _X_train = X_train_scaled\n",
    "                _X_test = X_test_scaled\n",
    "            else:\n",
    "                _X_train = X_train.drop(columns=_drop_columns)\n",
    "                _X_test = X_test.drop(columns=_drop_columns)\n",
    "                \n",
    "            model.fit(_X_train, y_train)\n",
    "            \n",
    "            mae, mse = model.evaluate(_X_test, y_test, verbose=False)\n",
    "            \n",
    "            results[(algorithm.__name__, data)] = {\n",
    "                \"Mean Absolute Error\": mae,\n",
    "                \"Mean Squared Error\": mse,\n",
    "            }\n",
    "\n",
    "    impacts = []\n",
    "    for algorithm in search_space[\"algorithm\"]:\n",
    "        all_mae = results[(algorithm.__name__, \"all\")][\"Mean Absolute Error\"]\n",
    "        no_weather_mae = results[(algorithm.__name__, \"no-weather\")][\"Mean Absolute Error\"]\n",
    "        if algorithm != DecisionTreeRegressor:\n",
    "            impacts.append((no_weather_mae - all_mae) / no_weather_mae)\n",
    "\n",
    "    return results, np.mean(impacts).round(3)"
   ]
  },
  {
   "cell_type": "code",
   "execution_count": 5,
   "metadata": {},
   "outputs": [
    {
     "name": "stderr",
     "output_type": "stream",
     "text": [
      "Algorithm: 100%|██████████| 5/5 [00:07<00:00,  1.51s/it]\n"
     ]
    },
    {
     "data": {
      "text/plain": [
       "-0.016"
      ]
     },
     "execution_count": 5,
     "metadata": {},
     "output_type": "execute_result"
    }
   ],
   "source": [
    "results, impact = run_experiments(search_space, drop_columns)\n",
    "impact"
   ]
  },
  {
   "cell_type": "code",
   "execution_count": null,
   "metadata": {},
   "outputs": [
    {
     "data": {
      "text/html": [
       "<div>\n",
       "<style scoped>\n",
       "    .dataframe tbody tr th:only-of-type {\n",
       "        vertical-align: middle;\n",
       "    }\n",
       "\n",
       "    .dataframe tbody tr th {\n",
       "        vertical-align: top;\n",
       "    }\n",
       "\n",
       "    .dataframe thead th {\n",
       "        text-align: right;\n",
       "    }\n",
       "</style>\n",
       "<table border=\"1\" class=\"dataframe\">\n",
       "  <thead>\n",
       "    <tr style=\"text-align: right;\">\n",
       "      <th></th>\n",
       "      <th></th>\n",
       "      <th>Mean Absolute Error</th>\n",
       "      <th>Mean Squared Error</th>\n",
       "    </tr>\n",
       "  </thead>\n",
       "  <tbody>\n",
       "    <tr>\n",
       "      <th rowspan=\"2\" valign=\"top\">LinearRegression</th>\n",
       "      <th>all</th>\n",
       "      <td>26.85</td>\n",
       "      <td>1643.68</td>\n",
       "    </tr>\n",
       "    <tr>\n",
       "      <th>no-weather</th>\n",
       "      <td>26.88</td>\n",
       "      <td>1648.16</td>\n",
       "    </tr>\n",
       "    <tr>\n",
       "      <th rowspan=\"2\" valign=\"top\">KNeighborsRegressor</th>\n",
       "      <th>all</th>\n",
       "      <td>22.73</td>\n",
       "      <td>1382.64</td>\n",
       "    </tr>\n",
       "    <tr>\n",
       "      <th>no-weather</th>\n",
       "      <td>22.45</td>\n",
       "      <td>1277.83</td>\n",
       "    </tr>\n",
       "    <tr>\n",
       "      <th rowspan=\"2\" valign=\"top\">DecisionTreeRegressor</th>\n",
       "      <th>all</th>\n",
       "      <td>28.06</td>\n",
       "      <td>2077.09</td>\n",
       "    </tr>\n",
       "    <tr>\n",
       "      <th>no-weather</th>\n",
       "      <td>20.62</td>\n",
       "      <td>1080.74</td>\n",
       "    </tr>\n",
       "    <tr>\n",
       "      <th rowspan=\"2\" valign=\"top\">RandomForestRegressor</th>\n",
       "      <th>all</th>\n",
       "      <td>21.03</td>\n",
       "      <td>1142.48</td>\n",
       "    </tr>\n",
       "    <tr>\n",
       "      <th>no-weather</th>\n",
       "      <td>20.62</td>\n",
       "      <td>1080.59</td>\n",
       "    </tr>\n",
       "    <tr>\n",
       "      <th rowspan=\"2\" valign=\"top\">XGBRegressor</th>\n",
       "      <th>all</th>\n",
       "      <td>21.38</td>\n",
       "      <td>1181.71</td>\n",
       "    </tr>\n",
       "    <tr>\n",
       "      <th>no-weather</th>\n",
       "      <td>20.62</td>\n",
       "      <td>1080.73</td>\n",
       "    </tr>\n",
       "  </tbody>\n",
       "</table>\n",
       "</div>"
      ],
      "text/plain": [
       "                                  Mean Absolute Error  Mean Squared Error\n",
       "LinearRegression      all                       26.85             1643.68\n",
       "                      no-weather                26.88             1648.16\n",
       "KNeighborsRegressor   all                       22.73             1382.64\n",
       "                      no-weather                22.45             1277.83\n",
       "DecisionTreeRegressor all                       28.06             2077.09\n",
       "                      no-weather                20.62             1080.74\n",
       "RandomForestRegressor all                       21.03             1142.48\n",
       "                      no-weather                20.62             1080.59\n",
       "XGBRegressor          all                       21.38             1181.71\n",
       "                      no-weather                20.62             1080.73"
      ]
     },
     "metadata": {},
     "output_type": "display_data"
    }
   ],
   "source": [
    "results = pd.DataFrame(results).T.round(2)\n",
    "results"
   ]
  },
  {
   "cell_type": "code",
   "execution_count": 16,
   "metadata": {},
   "outputs": [],
   "source": [
    "df = results[\"Mean Absolute Error\"].reset_index().rename(columns={\"level_0\": \"Algorithm\", \"level_1\": \"Features\"})"
   ]
  },
  {
   "cell_type": "code",
   "execution_count": 17,
   "metadata": {},
   "outputs": [
    {
     "data": {
      "image/png": "[encoded data removed]",
      "text/plain": [
       "<Figure size 640x480 with 1 Axes>"
      ]
     },
     "metadata": {},
     "output_type": "display_data"
    }
   ],
   "source": [
    "sns.set_style(\"whitegrid\")\n",
    "\n",
    "sns.barplot(data=df, y=\"Algorithm\", hue=\"Features\", x=\"Mean Absolute Error\", palette=\"viridis\", orient=\"h\")\n",
    "plt.legend(loc=\"lower right\", title=\"Features\")\n",
    "plt.ylabel(None)\n",
    "plt.show()"
   ]
  },
  {
   "cell_type": "code",
   "execution_count": null,
   "metadata": {},
   "outputs": [],
   "source": []
  }
 ],
 "metadata": {
  "kernelspec": {
   "display_name": "Medio",
   "language": "python",
   "name": "medio"
  },
  "language_info": {
   "codemirror_mode": {
    "name": "ipython",
    "version": 3
   },
   "file_extension": ".py",
   "mimetype": "text/x-python",
   "name": "python",
   "nbconvert_exporter": "python",
   "pygments_lexer": "ipython3",
   "version": "3.10.13"
  }
 },
 "nbformat": 4,
 "nbformat_minor": 2
}
